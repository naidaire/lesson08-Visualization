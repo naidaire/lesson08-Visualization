{
 "cells": [
  {
   "cell_type": "markdown",
   "metadata": {
    "slideshow": {
     "slide_type": "notes"
    }
   },
   "source": [
    "> **Jupyter slideshow:** This notebook can be displayed as slides. To view it as a slideshow in your browser, type the following in the console:\n",
    "\n",
    "\n",
    "> `> ipython nbconvert [this_notebook.ipynb] --to slides --post serve`\n",
    "\n",
    "\n",
    "> To toggle off the slideshow cell formatting, click the `CellToolbar` button, then `View --> Cell Toolbar --> None`."
   ]
  },
  {
   "cell_type": "markdown",
   "metadata": {
    "slideshow": {
     "slide_type": "slide"
    }
   },
   "source": [
    "<img src=\"http://imgur.com/1ZcRyrc.png\" style=\"float: left; margin: 20px; height: 55px\">\n",
    "\n",
    "## Principles of Data Visualization With Python\n",
    "\n",
    "_Author:_ Dave Yerrington (San Francisco)"
   ]
  },
  {
   "cell_type": "markdown",
   "metadata": {
    "slideshow": {
     "slide_type": "slide"
    }
   },
   "source": [
    "### Learning Objectives\n",
    "\n",
    "*After this lesson, you will be able to:*\n",
    "- Describe why data visualization is important.\n",
    "- Identify the characteristics of a great data visualization.\n",
    "- Describe when you would use a bar chart, pie chart, scatter plot, and histogram."
   ]
  },
  {
   "cell_type": "markdown",
   "metadata": {
    "slideshow": {
     "slide_type": "slide"
    }
   },
   "source": [
    "<a id='why_data_viz'></a>\n",
    "\n",
    "### Discussion: Why Use Data Visualization?\n",
    "\n",
    "---\n",
    "\n",
    "On Slack, discuss some of the ways you have used or enjoyed data visualization. Why do you think data visualization is useful? Why is it important?"
   ]
  },
  {
   "cell_type": "markdown",
   "metadata": {
    "slideshow": {
     "slide_type": "notes"
    }
   },
   "source": [
    "Humans are much better at spotting patterns in a visual display than in a table of numbers. "
   ]
  },
  {
   "cell_type": "markdown",
   "metadata": {
    "slideshow": {
     "slide_type": "slide"
    }
   },
   "source": [
    "<a id='anscombe'></a>\n",
    "\n",
    "### Anscombe's Quartet\n",
    "\n",
    "---\n",
    "\n",
    "Below are the summary statistics for four plots. What do you think the visualization for each plot would look like? \n",
    "\n",
    "![summary statistics for four different plots](../assets/images/anscombs%20quartet.png)"
   ]
  },
  {
   "cell_type": "markdown",
   "metadata": {
    "slideshow": {
     "slide_type": "slide"
    }
   },
   "source": [
    "![anscomb's quartet](../assets/images/anscombs%20quartert%20visualization.png)"
   ]
  },
  {
   "cell_type": "markdown",
   "metadata": {
    "slideshow": {
     "slide_type": "notes"
    }
   },
   "source": [
    "Lessons:\n",
    "\n",
    "- Summary statistics don't tell the whole story.\n",
    "- Outliers have a big effect on statistical properties.\n",
    "- Visualization is not just about making pretty pictures. It's also about learning how your data is structured so that you model is properly."
   ]
  },
  {
   "cell_type": "markdown",
   "metadata": {
    "slideshow": {
     "slide_type": "slide"
    }
   },
   "source": [
    "<a id='viz_attr'></a>\n",
    "\n",
    "### Mapping Variables to Attributes\n",
    "\n",
    "---\n",
    "\n",
    "![](../assets/images/data%20attributes.png)\n",
    "\n",
    "We tend to focus on position, then color, then size."
   ]
  },
  {
   "cell_type": "markdown",
   "metadata": {
    "slideshow": {
     "slide_type": "notes"
    }
   },
   "source": [
    "When we visualize data, we are mapping values of variables to visual attributes. Here are some examples of visual attributes."
   ]
  },
  {
   "cell_type": "markdown",
   "metadata": {
    "slideshow": {
     "slide_type": "slide"
    }
   },
   "source": [
    "![sequential](../assets/images/sequential.png)"
   ]
  },
  {
   "cell_type": "markdown",
   "metadata": {
    "slideshow": {
     "slide_type": "notes"
    }
   },
   "source": [
    "Let's focus on color for a moment. Generally, in data visualizations, you’re going to use color in one of three ways: sequential, divergent, or categorical. \n",
    "\n",
    "Sequential colors are used to show values ordered from low to high."
   ]
  },
  {
   "cell_type": "markdown",
   "metadata": {
    "collapsed": true,
    "slideshow": {
     "slide_type": "slide"
    }
   },
   "source": [
    "![divergent](../assets/images/divergent.png)"
   ]
  },
  {
   "cell_type": "markdown",
   "metadata": {
    "slideshow": {
     "slide_type": "notes"
    }
   },
   "source": [
    "Divergent colors are used to show ordered values that have a critical midpoint, like an average or zero."
   ]
  },
  {
   "cell_type": "markdown",
   "metadata": {
    "collapsed": true,
    "slideshow": {
     "slide_type": "slide"
    }
   },
   "source": [
    "![categorical](../assets/images/categorical.png)\n",
    "\n",
    "[Images via MediaShift](http://mediashift.org/2016/02/checklist-does-your-data-visualization-say-what-you-think-it-says/)"
   ]
  },
  {
   "cell_type": "markdown",
   "metadata": {
    "slideshow": {
     "slide_type": "notes"
    }
   },
   "source": [
    "Categorical colors are used to distinguish data that falls into distinct groups."
   ]
  },
  {
   "cell_type": "markdown",
   "metadata": {
    "slideshow": {
     "slide_type": "slide"
    }
   },
   "source": [
    "<a id='chart_choice'></a>\n",
    "\n",
    "### Choosing the Right Chart\n",
    "\n",
    "![](http://www.comicsenglish.com/wp-content/uploads/2013/06/xkcd-stove_ownership.png)\n"
   ]
  },
  {
   "cell_type": "markdown",
   "metadata": {
    "slideshow": {
     "slide_type": "notes"
    }
   },
   "source": [
    "In addition to considering data visualization attributes, you should also carefully choose the type of chart or graph you'll use. Let's look at a few commonly used charts and graphs."
   ]
  },
  {
   "cell_type": "markdown",
   "metadata": {
    "slideshow": {
     "slide_type": "slide"
    }
   },
   "source": [
    "### Bar Charts\n",
    "\n",
    "![](https://lenagroeger.s3.amazonaws.com/cuny-fall15/MakeThisChart/nytimes-bar-chart.jpg)"
   ]
  },
  {
   "cell_type": "markdown",
   "metadata": {
    "slideshow": {
     "slide_type": "notes"
    }
   },
   "source": [
    "Bar charts are great because they make it easy to compare across categories."
   ]
  },
  {
   "cell_type": "markdown",
   "metadata": {
    "slideshow": {
     "slide_type": "slide"
    }
   },
   "source": [
    "### Pie Charts\n",
    "\n",
    "![](http://i.imgur.com/uhTf6Ek.jpg)"
   ]
  },
  {
   "cell_type": "markdown",
   "metadata": {
    "slideshow": {
     "slide_type": "notes"
    }
   },
   "source": [
    "Pie charts are kind of the comic sans of data visualization.\n",
    "\n",
    "They are fine when you just want to show that some piece is a very large or small part of some whole, but even then you are probably better off using a bar chart. If you want to make a lot of comparisons across a lot of categories, then you have to use a bar chart.\n",
    "\n",
    "Never ask people to make comparisons across multiple pie charts. people are bad at judging angles."
   ]
  },
  {
   "cell_type": "markdown",
   "metadata": {
    "slideshow": {
     "slide_type": "slide"
    }
   },
   "source": [
    "![](../assets/images/scatter%20plot.png)\n",
    "[Scatter plot via Wikibooks](https://en.wikibooks.org/wiki/Statistics/Displaying_Data/Scatter_Graphs)"
   ]
  },
  {
   "cell_type": "markdown",
   "metadata": {
    "slideshow": {
     "slide_type": "notes"
    }
   },
   "source": [
    "Scatter plots are a great way to give you a sense of trends, concentrations, and outliers. This will provide a clear idea of what you may want to investigate further. "
   ]
  },
  {
   "cell_type": "markdown",
   "metadata": {
    "slideshow": {
     "slide_type": "slide"
    }
   },
   "source": [
    "### Histograms \n",
    "\n",
    "![](../assets/images/histogram%20chart.png)\n",
    "\n",
    "[Charts and graphs via Tableau](https://drive.google.com/file/d/0Bx2SHQGVqWasT1l4NWtLclJJcWM/view)"
   ]
  },
  {
   "cell_type": "markdown",
   "metadata": {
    "slideshow": {
     "slide_type": "notes"
    }
   },
   "source": [
    "Histograms are useful when you want to see how your data are distributed across groups.\n",
    "\n",
    "A histogram is a plot of frequency against a binned continuous variable, whereas a bar plot is a plot of frequency against a categorical variable."
   ]
  },
  {
   "cell_type": "markdown",
   "metadata": {
    "slideshow": {
     "slide_type": "slide"
    }
   },
   "source": [
    "<a id='visualization_libraries'></a>\n",
    "\n",
    "### Visualization Programming Libraries\n",
    "\n",
    "- **[Matplotlib](https://matplotlib.org/)**\n",
    "    - Produces publication-quality static plots\n",
    "    - Powerful\n",
    "    - A little clunky\n",
    "- **[Seaborn](https://seaborn.pydata.org/)**\n",
    "    - Extends matplotlib\n",
    "    - Provides modern themes\n",
    "    - Provides convenience functions for statistical data visualization\n",
    "- **[Bokeh](http://bokeh.pydata.org/en/latest/)**\n",
    "    - Provides interactive plots for the web\n",
    "    - Has a nicer, more modern interface\n",
    "- **[Graphviz](http://graphviz.readthedocs.io/en/stable/manual.html)**\n",
    "    - Visualizes graph data structures (e.g., edges, vertices, etc)\n",
    "- **[Basemap](http://matplotlib.org/basemap/)**\n",
    "    - Produces static maps\n",
    "- **[D3.js](https://d3js.org/)**\n",
    "    - Used by fivethirtyeight, NYTimes, and others to create stunning, high-performance, interactive visualizations for the web (e.g. [Visualizing Algorithms](https://bost.ocks.org/mike/algorithms/))\n",
    "    - Low-level Javascript library\n"
   ]
  },
  {
   "cell_type": "markdown",
   "metadata": {
    "slideshow": {
     "slide_type": "slide"
    }
   },
   "source": [
    "### Other Visualization Tools\n",
    "\n",
    "- **Excel:** For quick data cleaning and simple graphs\n",
    "- **Power BI:** Suite of business analytics tools\n",
    "- **Tableau:** Business intelligence and analytics software\n",
    "- **Periscope Data:** Data analysis platform\n",
    "- **Plotly:** Create charts and dashboards"
   ]
  }
 ],
 "metadata": {
  "anaconda-cloud": {},
  "celltoolbar": "Slideshow",
  "kernelspec": {
   "display_name": "Python 3",
   "language": "python",
   "name": "python3"
  },
  "language_info": {
   "codemirror_mode": {
    "name": "ipython",
    "version": 3
   },
   "file_extension": ".py",
   "mimetype": "text/x-python",
   "name": "python",
   "nbconvert_exporter": "python",
   "pygments_lexer": "ipython3",
   "version": "3.6.3"
  }
 },
 "nbformat": 4,
 "nbformat_minor": 1
}
